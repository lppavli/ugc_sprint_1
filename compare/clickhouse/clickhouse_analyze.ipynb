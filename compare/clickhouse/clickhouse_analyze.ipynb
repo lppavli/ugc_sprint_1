{
 "cells": [
  {
   "cell_type": "code",
   "execution_count": 8,
   "metadata": {},
   "outputs": [
    {
     "name": "stderr",
     "output_type": "stream",
     "text": [
      "Creating network \"clickhouse_default\" with the default driver\n",
      "Creating clickhouse ... \n",
      "\n",
      "Creating clickhouse ... done\n",
      "\n"
     ]
    }
   ],
   "source": [
    "!docker-compose up -d"
   ]
  },
  {
   "cell_type": "code",
   "execution_count": 3,
   "metadata": {
    "pycharm": {
     "name": "#%%\n"
    }
   },
   "outputs": [
    {
     "name": "stderr",
     "output_type": "stream",
     "text": [
      "Stopping clickhouse ... \n",
      "\n",
      "Stopping clickhouse ... done\n",
      "\n",
      "Removing clickhouse ... \n",
      "\n",
      "Removing clickhouse ... done\n",
      "\n",
      "Removing network clickhouse_default\n"
     ]
    }
   ],
   "source": [
    "!docker-compose down"
   ]
  },
  {
   "cell_type": "code",
   "execution_count": 6,
   "metadata": {},
   "outputs": [],
   "source": [
    "from clickhouse_driver import Client\n",
    "\n",
    "client = Client(host=\"localhost\") "
   ]
  },
  {
   "cell_type": "code",
   "execution_count": 9,
   "metadata": {},
   "outputs": [
    {
     "data": {
      "text/plain": [
       "[]"
      ]
     },
     "execution_count": 9,
     "metadata": {},
     "output_type": "execute_result"
    }
   ],
   "source": [
    "client.execute(\"CREATE DATABASE IF NOT EXISTS analyze\")"
   ]
  },
  {
   "cell_type": "code",
   "execution_count": 10,
   "metadata": {},
   "outputs": [
    {
     "data": {
      "text/plain": [
       "[]"
      ]
     },
     "execution_count": 10,
     "metadata": {},
     "output_type": "execute_result"
    }
   ],
   "source": [
    "client.execute(\"DROP TABLE IF EXISTS analyze.views\")"
   ]
  },
  {
   "cell_type": "code",
   "execution_count": 13,
   "metadata": {},
   "outputs": [
    {
     "data": {
      "text/plain": [
       "[]"
      ]
     },
     "execution_count": 13,
     "metadata": {},
     "output_type": "execute_result"
    }
   ],
   "source": [
    "create_sql = \"\"\"\n",
    "CREATE TABLE IF NOT EXISTS analyzeviews (\n",
    "            id String,\n",
    "            user_id String,\n",
    "            movie_id String,\n",
    "            timestamp_movie Int64,\n",
    "            time Int64\n",
    "            ) Engine=MergeTree() ORDER BY id\n",
    "\"\"\"\n",
    "client.execute(create_sql)"
   ]
  },
  {
   "cell_type": "code",
   "execution_count": 14,
   "metadata": {},
   "outputs": [
    {
     "data": {
      "text/plain": [
       "[(0,)]"
      ]
     },
     "execution_count": 14,
     "metadata": {},
     "output_type": "execute_result"
    }
   ],
   "source": [
    "client.execute(\"select count(1) from analyze.views\")"
   ]
  },
  {
   "cell_type": "code",
   "execution_count": 33,
   "metadata": {},
   "outputs": [],
   "source": [
    "import uuid\n",
    "from random import randint\n",
    "from faker import Faker\n",
    "\n",
    "\n",
    "def generate_random_data(num_rows_per_chunk: int, iteration: int):\n",
    "    chunk = []\n",
    "    fake = Faker()\n",
    "#     event_time = fake.date_time_between()\n",
    "    for i in range(iteration*num_rows_per_chunk):\n",
    "        timestamp_movie = randint(1, 100)\n",
    "        time = randint(1000000000, 10000000000)\n",
    "        chunk.append((str(uuid.uuid4()), str(uuid.uuid4()), str(uuid.uuid4()), timestamp_movie, time))\n",
    "\n",
    "    yield chunk"
   ]
  },
  {
   "cell_type": "code",
   "execution_count": 35,
   "metadata": {},
   "outputs": [],
   "source": [
    "import time\n",
    "import statistics\n",
    "\n",
    "class profile_code():\n",
    "    def __init__(self):\n",
    "        self.start = time.time()\n",
    "        self.all_durations = []\n",
    "        \n",
    "    def setup_start_time(self):\n",
    "        self.start = time.time()\n",
    "\n",
    "    def checkpoint(self):\n",
    "        end_time = time.time()\n",
    "        self.all_durations.append(end_time - self.start)\n",
    "        self.start = end_time\n",
    "\n",
    "    def __enter__(self):\n",
    "        return self\n",
    "\n",
    "    def __exit__(self, type, value, traceback):\n",
    "        print(f\"Median - {statistics.median(self.all_durations)}\")\n",
    "        avg = sum(self.all_durations) / len(self.all_durations)\n",
    "        print(f\"Average - {avg}\")\n",
    "        print(f\"Summary - {sum(self.all_durations)}\")"
   ]
  },
  {
   "cell_type": "code",
   "execution_count": 36,
   "metadata": {},
   "outputs": [
    {
     "name": "stdout",
     "output_type": "stream",
     "text": [
      "Median - 8.778651237487793\n",
      "Average - 8.778651237487793\n",
      "Summary - 8.778651237487793\n"
     ]
    }
   ],
   "source": [
    "# Тестирование вставки по 500 записей за раз\n",
    "with profile_code() as profiler:\n",
    "    for chunk in generate_random_data(500, 2000):\n",
    "        profiler.setup_start_time()\n",
    "        client.execute(\n",
    "                    f\"INSERT INTO analyze.views (id, user_id, movie_id, timestamp_movie, time) VALUES\",\n",
    "                    chunk,\n",
    "                )\n",
    "        profiler.checkpoint()"
   ]
  },
  {
   "cell_type": "code",
   "execution_count": 37,
   "metadata": {},
   "outputs": [
    {
     "name": "stdout",
     "output_type": "stream",
     "text": [
      "Median - 0.055718421936035156\n",
      "Average - 0.055718421936035156\n",
      "Summary - 0.055718421936035156\n"
     ]
    }
   ],
   "source": [
    "# Тестирование одной вставки за раз\n",
    "with profile_code() as profiler:\n",
    "    for chunk in generate_random_data(1, 2000):\n",
    "        profiler.setup_start_time()\n",
    "        client.execute(\n",
    "                    f\"INSERT INTO analyze.views (id, user_id, movie_id, timestamp_movie, time) VALUES\",\n",
    "                    chunk,\n",
    "                )\n",
    "        profiler.checkpoint()"
   ]
  },
  {
   "cell_type": "code",
   "execution_count": 38,
   "metadata": {},
   "outputs": [],
   "source": [
    "num_uuids = 100\n",
    "uuids = [str(u[0]) for u in client.execute(f\"SELECT user_id FROM analyze.views LIMIT {num_uuids}\")]"
   ]
  },
  {
   "cell_type": "code",
   "execution_count": 40,
   "metadata": {},
   "outputs": [
    {
     "name": "stdout",
     "output_type": "stream",
     "text": [
      "Median - 0.022065281867980957\n",
      "Average - 0.02478811264038086\n",
      "Summary - 2.478811264038086\n"
     ]
    }
   ],
   "source": [
    "# Testing SELECT statments\n",
    "with profile_code() as profiler:\n",
    "    for u in uuids:\n",
    "        profiler.setup_start_time()\n",
    "        client.execute(f\"SELECT * FROM analyze.views where user_id='{u}'\")\n",
    "        profiler.checkpoint()"
   ]
  },
  {
   "cell_type": "code",
   "execution_count": null,
   "metadata": {},
   "outputs": [],
   "source": []
  }
 ],
 "metadata": {
  "kernelspec": {
   "display_name": "Python 3 (ipykernel)",
   "language": "python",
   "name": "python3"
  },
  "language_info": {
   "codemirror_mode": {
    "name": "ipython",
    "version": 3
   },
   "file_extension": ".py",
   "mimetype": "text/x-python",
   "name": "python",
   "nbconvert_exporter": "python",
   "pygments_lexer": "ipython3",
   "version": "3.9.12"
  }
 },
 "nbformat": 4,
 "nbformat_minor": 1
}